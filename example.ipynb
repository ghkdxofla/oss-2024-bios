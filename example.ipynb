{
 "cells": [
  {
   "metadata": {
    "ExecuteTime": {
     "end_time": "2024-08-27T15:10:07.989409Z",
     "start_time": "2024-08-27T15:10:07.340685Z"
    }
   },
   "cell_type": "code",
   "source": [
    "from time import sleep\n",
    "\n",
    "from core.manager import Manager\n",
    "from core.managers.cromwell_manager import CromwellManager\n",
    "from core.visualizer import visualize_gc_content\n",
    "from core.workflow_validator import validate_wdl\n",
    "from utils import make_absolute_path"
   ],
   "id": "f7cb4082392266",
   "outputs": [],
   "execution_count": 5
  },
  {
   "metadata": {
    "ExecuteTime": {
     "end_time": "2024-08-27T15:10:09.162469Z",
     "start_time": "2024-08-27T15:10:09.160140Z"
    }
   },
   "cell_type": "code",
   "source": [
    "# prepare files\n",
    "wdl_file = \"wdls/covid_analysis.wdl\"\n",
    "output_file = \"output_file.txt\""
   ],
   "id": "870a9e5f343f44fb",
   "outputs": [],
   "execution_count": 6
  },
  {
   "metadata": {
    "ExecuteTime": {
     "end_time": "2024-08-27T15:10:09.726318Z",
     "start_time": "2024-08-27T15:10:09.722824Z"
    }
   },
   "cell_type": "code",
   "source": [
    "# input options\n",
    "input_options = {\n",
    "    \"CoronavirusAnalysis.fasta_file\": \"data/coronavirus.fasta\",\n",
    "    \"CoronavirusAnalysis.gc_content_script\": \"logics/gc_content.py\",\n",
    "    \"CoronavirusAnalysis.sequence_length_script\": \"logics/sequence_length.py\",\n",
    "    \"CoronavirusAnalysis.pipfile\": \"logics/Pipfile\",\n",
    "    \"CoronavirusAnalysis.pipfile_lock\": \"logics/Pipfile.lock\",\n",
    "    \"CoronavirusAnalysis.output_file\": output_file,\n",
    "}\n",
    "options = {\n",
    "    \"final_workflow_outputs_dir\": make_absolute_path(\"outputs\"),\n",
    "    \"use_relative_output_paths\": True,\n",
    "}"
   ],
   "id": "e2fea5c4c5c46810",
   "outputs": [],
   "execution_count": 7
  },
  {
   "metadata": {
    "ExecuteTime": {
     "end_time": "2024-08-27T15:10:20.421277Z",
     "start_time": "2024-08-27T15:10:20.114998Z"
    }
   },
   "cell_type": "code",
   "source": [
    "# validate wdl\n",
    "validate_wdl(wdl_file)\n",
    "if not validate_wdl(wdl_file):\n",
    "    print(\"WDL is not valid\")\n",
    "    exit(1)"
   ],
   "id": "ea7ca7794bf8da7",
   "outputs": [],
   "execution_count": 8
  },
  {
   "metadata": {
    "ExecuteTime": {
     "end_time": "2024-08-27T15:10:27.220224Z",
     "start_time": "2024-08-27T15:10:27.203882Z"
    }
   },
   "cell_type": "code",
   "source": [
    "# initiate manager\n",
    "manager = Manager(CromwellManager())\n",
    "manager.authenticate()"
   ],
   "id": "118300332c3b53a9",
   "outputs": [
    {
     "name": "stderr",
     "output_type": "stream",
     "text": [
      "You are not using any authentication with Cromwell. For security purposes, please consider adding authentication in front of your Cromwell instance!\n"
     ]
    }
   ],
   "execution_count": 9
  },
  {
   "metadata": {
    "ExecuteTime": {
     "end_time": "2024-08-27T15:10:35.323471Z",
     "start_time": "2024-08-27T15:10:35.090260Z"
    }
   },
   "cell_type": "code",
   "source": [
    "# submit workflow\n",
    "submit_result = manager.submit_workflow(wdl_file, input_options, options)\n",
    "print(submit_result)"
   ],
   "id": "8c007f9e75e7ac88",
   "outputs": [
    {
     "name": "stdout",
     "output_type": "stream",
     "text": [
      "{'id': '1f3cc8e6-1cc6-4cb6-8add-37eb49acc298', 'status': 'Submitted'}\n"
     ]
    }
   ],
   "execution_count": 10
  },
  {
   "metadata": {
    "ExecuteTime": {
     "end_time": "2024-08-27T15:12:09.963082Z",
     "start_time": "2024-08-27T15:10:48.714634Z"
    }
   },
   "cell_type": "code",
   "source": [
    "# wait for workflow to finish\n",
    "result = manager.get_workflow_status(submit_result[\"id\"])\n",
    "while not result or result[0][\"status\"] not in [\"Succeeded\", \"Failed\"]:\n",
    "    result = manager.get_workflow_status(submit_result[\"id\"])\n",
    "    print(result)\n",
    "    sleep(5)"
   ],
   "id": "1c7af06f127fdb03",
   "outputs": [
    {
     "name": "stdout",
     "output_type": "stream",
     "text": [
      "[{'id': '1f3cc8e6-1cc6-4cb6-8add-37eb49acc298', 'metadataArchiveStatus': 'Unarchived', 'status': 'Submitted', 'submission': '2024-08-27T15:10:35.311Z'}]\n",
      "[{'id': '1f3cc8e6-1cc6-4cb6-8add-37eb49acc298', 'metadataArchiveStatus': 'Unarchived', 'status': 'Submitted', 'submission': '2024-08-27T15:10:35.311Z'}]\n",
      "[{'id': '1f3cc8e6-1cc6-4cb6-8add-37eb49acc298', 'metadataArchiveStatus': 'Unarchived', 'name': 'CoronavirusAnalysis', 'start': '2024-08-27T15:10:50.301Z', 'status': 'Running', 'submission': '2024-08-27T15:10:35.311Z'}]\n",
      "[{'id': '1f3cc8e6-1cc6-4cb6-8add-37eb49acc298', 'metadataArchiveStatus': 'Unarchived', 'name': 'CoronavirusAnalysis', 'start': '2024-08-27T15:10:50.301Z', 'status': 'Running', 'submission': '2024-08-27T15:10:35.311Z'}]\n",
      "[{'id': '1f3cc8e6-1cc6-4cb6-8add-37eb49acc298', 'metadataArchiveStatus': 'Unarchived', 'name': 'CoronavirusAnalysis', 'start': '2024-08-27T15:10:50.301Z', 'status': 'Running', 'submission': '2024-08-27T15:10:35.311Z'}]\n",
      "[{'id': '1f3cc8e6-1cc6-4cb6-8add-37eb49acc298', 'metadataArchiveStatus': 'Unarchived', 'name': 'CoronavirusAnalysis', 'start': '2024-08-27T15:10:50.301Z', 'status': 'Running', 'submission': '2024-08-27T15:10:35.311Z'}]\n",
      "[{'id': '1f3cc8e6-1cc6-4cb6-8add-37eb49acc298', 'metadataArchiveStatus': 'Unarchived', 'name': 'CoronavirusAnalysis', 'start': '2024-08-27T15:10:50.301Z', 'status': 'Running', 'submission': '2024-08-27T15:10:35.311Z'}]\n",
      "[{'id': '1f3cc8e6-1cc6-4cb6-8add-37eb49acc298', 'metadataArchiveStatus': 'Unarchived', 'name': 'CoronavirusAnalysis', 'start': '2024-08-27T15:10:50.301Z', 'status': 'Running', 'submission': '2024-08-27T15:10:35.311Z'}]\n",
      "[{'id': '1f3cc8e6-1cc6-4cb6-8add-37eb49acc298', 'metadataArchiveStatus': 'Unarchived', 'name': 'CoronavirusAnalysis', 'start': '2024-08-27T15:10:50.301Z', 'status': 'Running', 'submission': '2024-08-27T15:10:35.311Z'}]\n",
      "[{'id': '1f3cc8e6-1cc6-4cb6-8add-37eb49acc298', 'metadataArchiveStatus': 'Unarchived', 'name': 'CoronavirusAnalysis', 'start': '2024-08-27T15:10:50.301Z', 'status': 'Running', 'submission': '2024-08-27T15:10:35.311Z'}]\n",
      "[{'id': '1f3cc8e6-1cc6-4cb6-8add-37eb49acc298', 'metadataArchiveStatus': 'Unarchived', 'name': 'CoronavirusAnalysis', 'start': '2024-08-27T15:10:50.301Z', 'status': 'Running', 'submission': '2024-08-27T15:10:35.311Z'}]\n",
      "[{'id': '1f3cc8e6-1cc6-4cb6-8add-37eb49acc298', 'metadataArchiveStatus': 'Unarchived', 'name': 'CoronavirusAnalysis', 'start': '2024-08-27T15:10:50.301Z', 'status': 'Running', 'submission': '2024-08-27T15:10:35.311Z'}]\n",
      "[{'id': '1f3cc8e6-1cc6-4cb6-8add-37eb49acc298', 'metadataArchiveStatus': 'Unarchived', 'name': 'CoronavirusAnalysis', 'start': '2024-08-27T15:10:50.301Z', 'status': 'Running', 'submission': '2024-08-27T15:10:35.311Z'}]\n",
      "[{'id': '1f3cc8e6-1cc6-4cb6-8add-37eb49acc298', 'metadataArchiveStatus': 'Unarchived', 'name': 'CoronavirusAnalysis', 'start': '2024-08-27T15:10:50.301Z', 'status': 'Running', 'submission': '2024-08-27T15:10:35.311Z'}]\n",
      "[{'id': '1f3cc8e6-1cc6-4cb6-8add-37eb49acc298', 'metadataArchiveStatus': 'Unarchived', 'name': 'CoronavirusAnalysis', 'start': '2024-08-27T15:10:50.301Z', 'status': 'Running', 'submission': '2024-08-27T15:10:35.311Z'}]\n",
      "[{'end': '2024-08-27T15:11:55.986Z', 'id': '1f3cc8e6-1cc6-4cb6-8add-37eb49acc298', 'metadataArchiveStatus': 'Unarchived', 'name': 'CoronavirusAnalysis', 'start': '2024-08-27T15:10:50.301Z', 'status': 'Succeeded', 'submission': '2024-08-27T15:10:35.311Z'}]\n"
     ]
    }
   ],
   "execution_count": 11
  },
  {
   "metadata": {
    "ExecuteTime": {
     "end_time": "2024-08-27T15:13:15.905550Z",
     "start_time": "2024-08-27T15:13:15.896529Z"
    }
   },
   "cell_type": "code",
   "source": [
    "with open(f\"outputs/{output_file}\") as f:\n",
    "    print(f.read())"
   ],
   "id": "97b40c6d4211a026",
   "outputs": [
    {
     "name": "stdout",
     "output_type": "stream",
     "text": [
      "Sequence Length Results:\n",
      "29903GC Content Results:\n",
      "NC_045512.2\t37.97%\n",
      "\n"
     ]
    }
   ],
   "execution_count": 13
  },
  {
   "metadata": {},
   "cell_type": "code",
   "outputs": [],
   "execution_count": null,
   "source": "",
   "id": "d2fe785b781b4f5d"
  }
 ],
 "metadata": {
  "kernelspec": {
   "display_name": "Python 3",
   "language": "python",
   "name": "python3"
  },
  "language_info": {
   "codemirror_mode": {
    "name": "ipython",
    "version": 2
   },
   "file_extension": ".py",
   "mimetype": "text/x-python",
   "name": "python",
   "nbconvert_exporter": "python",
   "pygments_lexer": "ipython2",
   "version": "2.7.6"
  }
 },
 "nbformat": 4,
 "nbformat_minor": 5
}
